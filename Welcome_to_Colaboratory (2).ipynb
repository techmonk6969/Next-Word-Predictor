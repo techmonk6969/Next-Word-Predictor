{
  "cells": [
    {
      "cell_type": "code",
      "source": [
        "import numpy as np\n",
        "np.random.seed(42)\n",
        "import tensorflow as tf\n",
        "tf.random.set_seed(42)\n",
        "\n",
        "from tensorflow.keras.models import Sequential, load_model\n",
        "from tensorflow.keras.layers import Dense, Activation\n",
        "from tensorflow.keras.layers import LSTM, Dropout\n",
        "from tensorflow.keras.layers import TimeDistributed\n",
        "from tensorflow.keras.layers import Dense, Activation, Dropout, RepeatVector\n",
        "from tensorflow.keras.optimizers import RMSprop\n",
        "import matplotlib.pyplot as plt\n",
        "import pickle\n",
        "import heapq\n",
        "\n"
      ],
      "metadata": {
        "id": "WIunEd0uDjBN"
      },
      "execution_count": 2,
      "outputs": []
    },
    {
      "cell_type": "code",
      "source": [
        "path = '/content/1661-0.txt'\n",
        "text = open(path,encoding = 'utf8').read().lower()\n",
        "print('corpus length :', len(text))"
      ],
      "metadata": {
        "id": "RF--RmHiJ08-",
        "outputId": "76574b59-f6da-4e4f-e17b-44170245740b",
        "colab": {
          "base_uri": "https://localhost:8080/"
        }
      },
      "execution_count": 3,
      "outputs": [
        {
          "output_type": "stream",
          "name": "stdout",
          "text": [
            "corpus length : 581888\n"
          ]
        }
      ]
    },
    {
      "cell_type": "code",
      "source": [
        "character = sorted(list(set(text)))\n",
        "char_indicates = dict((c,i) for i, c in enumerate(character))\n",
        "indices_char = dict((i,c) for i, c in enumerate(character))\n",
        "print(f'unique chars :{len(character)}')"
      ],
      "metadata": {
        "id": "6iKzoMu1M4S7",
        "outputId": "8c7ca8f3-754c-4a25-a9b5-806dc34178a2",
        "colab": {
          "base_uri": "https://localhost:8080/"
        }
      },
      "execution_count": 5,
      "outputs": [
        {
          "output_type": "stream",
          "name": "stdout",
          "text": [
            "unique chars :73\n"
          ]
        }
      ]
    },
    {
      "cell_type": "code",
      "source": [
        "seq_len = 40\n",
        "step = 3\n",
        "sentences = []\n",
        "next_chars = []\n",
        "for i in range(0, len(text) - seq_len, step):\n",
        "  sentences.append(text[i: i+ seq_len])\n",
        "  next_chars.append(text[i + seq_len])\n",
        "print(f'num training examples: {len(sentences)}')\n"
      ],
      "metadata": {
        "id": "ACXoStGnNtUd",
        "outputId": "8e8760a6-3f95-445c-bd44-15724eca0453",
        "colab": {
          "base_uri": "https://localhost:8080/"
        }
      },
      "execution_count": 8,
      "outputs": [
        {
          "output_type": "stream",
          "name": "stdout",
          "text": [
            "num training examples: 193950\n"
          ]
        }
      ]
    },
    {
      "cell_type": "code",
      "source": [
        "X = np.zeros((len(sentences),seq_len, len(character)), dtype=np.bool_)\n",
        "y = np.zeros((len(sentences), len(character)), dtype=np.bool_)\n",
        "for i, sentence in enumerate(sentences):\n",
        "  for t, char in enumerate(sentence):\n",
        "    X[i, t, char_indicates[char]] = 1\n",
        "  y[i, char_indicates[next_chars[i]]] = 1\n",
        "\n",
        "sentences[124]\n",
        "next_chars[100]"
      ],
      "metadata": {
        "id": "JZpbuQZeOzrp",
        "outputId": "1bbe9fe4-a864-4048-f578-ac62f3a2a505",
        "colab": {
          "base_uri": "https://localhost:8080/",
          "height": 36
        }
      },
      "execution_count": 11,
      "outputs": [
        {
          "output_type": "execute_result",
          "data": {
            "text/plain": [
              "'e'"
            ],
            "application/vnd.google.colaboratory.intrinsic+json": {
              "type": "string"
            }
          },
          "metadata": {},
          "execution_count": 11
        }
      ]
    },
    {
      "cell_type": "code",
      "source": [
        "X[0][0]"
      ],
      "metadata": {
        "id": "mQGAZalwQFzO",
        "outputId": "2f3779e3-eb90-48de-acbe-77cbd27268e4",
        "colab": {
          "base_uri": "https://localhost:8080/"
        }
      },
      "execution_count": 12,
      "outputs": [
        {
          "output_type": "execute_result",
          "data": {
            "text/plain": [
              "array([False, False, False, False, False, False, False, False, False,\n",
              "       False, False, False, False, False, False, False, False, False,\n",
              "       False, False, False, False, False, False, False, False, False,\n",
              "       False, False, False, False, False, False, False, False, False,\n",
              "       False, False, False, False, False, False, False, False, False,\n",
              "       False, False, False, False, False, False, False, False, False,\n",
              "       False, False, False, False, False, False, False, False, False,\n",
              "       False, False, False, False, False, False, False, False, False,\n",
              "        True])"
            ]
          },
          "metadata": {},
          "execution_count": 12
        }
      ]
    },
    {
      "cell_type": "code",
      "source": [
        "y[0]"
      ],
      "metadata": {
        "id": "wezHHeZhQ3PW",
        "outputId": "663d1974-a9b4-4546-889f-0cdf0b15bce1",
        "colab": {
          "base_uri": "https://localhost:8080/"
        }
      },
      "execution_count": 13,
      "outputs": [
        {
          "output_type": "execute_result",
          "data": {
            "text/plain": [
              "array([False, False, False, False, False, False, False, False, False,\n",
              "       False, False, False, False, False, False, False, False, False,\n",
              "       False, False, False, False, False, False, False, False, False,\n",
              "       False, False, False, False, False, False, False, False, False,\n",
              "       False, False, False, False, False, False, False, False, False,\n",
              "       False, False, False, False, False, False,  True, False, False,\n",
              "       False, False, False, False, False, False, False, False, False,\n",
              "       False, False, False, False, False, False, False, False, False,\n",
              "       False])"
            ]
          },
          "metadata": {},
          "execution_count": 13
        }
      ]
    },
    {
      "cell_type": "code",
      "source": [
        "X.shape"
      ],
      "metadata": {
        "id": "t6JeU2UKQ6V9",
        "outputId": "c5e42fb7-d2df-4c32-a8f6-1dc6c8ff5214",
        "colab": {
          "base_uri": "https://localhost:8080/"
        }
      },
      "execution_count": 14,
      "outputs": [
        {
          "output_type": "execute_result",
          "data": {
            "text/plain": [
              "(193950, 40, 73)"
            ]
          },
          "metadata": {},
          "execution_count": 14
        }
      ]
    },
    {
      "cell_type": "code",
      "source": [
        "model = Sequential()\n",
        "model.add(LSTM(128, input_shape=(seq_len, len(character))))\n",
        "model.add(Dense(len(character)))\n",
        "model.add(Activation('softmax'))"
      ],
      "metadata": {
        "id": "CDAu_EG0Q9rb"
      },
      "execution_count": 15,
      "outputs": []
    },
    {
      "cell_type": "code",
      "source": [
        "model.summary()"
      ],
      "metadata": {
        "id": "SaHoERZ_Re0E",
        "outputId": "f18fe753-f785-412c-a35e-0b65bdfb546e",
        "colab": {
          "base_uri": "https://localhost:8080/"
        }
      },
      "execution_count": 16,
      "outputs": [
        {
          "output_type": "stream",
          "name": "stdout",
          "text": [
            "Model: \"sequential\"\n",
            "_________________________________________________________________\n",
            " Layer (type)                Output Shape              Param #   \n",
            "=================================================================\n",
            " lstm (LSTM)                 (None, 128)               103424    \n",
            "                                                                 \n",
            " dense (Dense)               (None, 73)                9417      \n",
            "                                                                 \n",
            " activation (Activation)     (None, 73)                0         \n",
            "                                                                 \n",
            "=================================================================\n",
            "Total params: 112841 (440.79 KB)\n",
            "Trainable params: 112841 (440.79 KB)\n",
            "Non-trainable params: 0 (0.00 Byte)\n",
            "_________________________________________________________________\n"
          ]
        }
      ]
    },
    {
      "cell_type": "code",
      "source": [
        "optimizer = RMSprop(learning_rate=0.01)\n",
        "model.compile(loss='categorical_crossentropy', optimizer=optimizer, metrics=['accuracy'])\n",
        "history = model.fit( X,y,\n",
        "                    validation_split = 0.01,\n",
        "                    batch_size=128,\n",
        "                    epochs=7,\n",
        "                    shuffle=True ).history"
      ],
      "metadata": {
        "id": "pYq7ndq2RhKG",
        "outputId": "17115385-e2a8-451a-a689-c3ac6bd2bead",
        "colab": {
          "base_uri": "https://localhost:8080/"
        }
      },
      "execution_count": 18,
      "outputs": [
        {
          "output_type": "stream",
          "name": "stdout",
          "text": [
            "Epoch 1/7\n",
            "1501/1501 [==============================] - 188s 124ms/step - loss: 1.3749 - accuracy: 0.5799 - val_loss: 1.9292 - val_accuracy: 0.4706\n",
            "Epoch 2/7\n",
            "1501/1501 [==============================] - 200s 134ms/step - loss: 1.3583 - accuracy: 0.5837 - val_loss: 1.9491 - val_accuracy: 0.4799\n",
            "Epoch 3/7\n",
            "1501/1501 [==============================] - 200s 133ms/step - loss: 1.3472 - accuracy: 0.5866 - val_loss: 1.9430 - val_accuracy: 0.4603\n",
            "Epoch 4/7\n",
            "1501/1501 [==============================] - 236s 157ms/step - loss: 1.3366 - accuracy: 0.5895 - val_loss: 1.9322 - val_accuracy: 0.4670\n",
            "Epoch 5/7\n",
            "1501/1501 [==============================] - 228s 152ms/step - loss: 1.3283 - accuracy: 0.5912 - val_loss: 1.9331 - val_accuracy: 0.4809\n",
            "Epoch 6/7\n",
            "1501/1501 [==============================] - 212s 141ms/step - loss: 1.3198 - accuracy: 0.5935 - val_loss: 1.9458 - val_accuracy: 0.4804\n",
            "Epoch 7/7\n",
            "1501/1501 [==============================] - 203s 135ms/step - loss: 1.3137 - accuracy: 0.5957 - val_loss: 1.9527 - val_accuracy: 0.4711\n"
          ]
        }
      ]
    },
    {
      "cell_type": "code",
      "source": [
        "model.save('NW_keras_model.h5')\n",
        "pickle.dump(history, open('history.p','wb'))"
      ],
      "metadata": {
        "id": "Bw-2SI41TDd4",
        "outputId": "c164d828-5254-4394-cc90-d5353234e99a",
        "colab": {
          "base_uri": "https://localhost:8080/"
        }
      },
      "execution_count": 19,
      "outputs": [
        {
          "output_type": "stream",
          "name": "stderr",
          "text": [
            "/usr/local/lib/python3.10/dist-packages/keras/src/engine/training.py:3103: UserWarning: You are saving your model as an HDF5 file via `model.save()`. This file format is considered legacy. We recommend using instead the native Keras format, e.g. `model.save('my_model.keras')`.\n",
            "  saving_api.save_model(\n"
          ]
        }
      ]
    },
    {
      "cell_type": "code",
      "source": [
        "model = load_model('NW_keras_model.h5')\n",
        "history = pickle.load(open('history.p','rb'))"
      ],
      "metadata": {
        "id": "RsuI4vZZa1su"
      },
      "execution_count": 20,
      "outputs": []
    },
    {
      "cell_type": "code",
      "source": [
        "loss_and_acc = model.evaluate(X,y)\n",
        "print('Test Loss', loss_and_acc[0])\n",
        "print('Test Accuracy', loss_and_acc[1])"
      ],
      "metadata": {
        "id": "zldMwBHubFU_",
        "outputId": "68d7a77f-6cf7-4898-8f3e-56ab1d7990b1",
        "colab": {
          "base_uri": "https://localhost:8080/"
        }
      },
      "execution_count": 21,
      "outputs": [
        {
          "output_type": "stream",
          "name": "stdout",
          "text": [
            "6061/6061 [==============================] - 146s 24ms/step - loss: 1.2765 - accuracy: 0.6046\n",
            "Test Loss 1.2764946222305298\n",
            "Test Accuracy 0.6046455502510071\n"
          ]
        }
      ]
    },
    {
      "cell_type": "code",
      "source": [
        "acc = history['accuracy']\n",
        "val_acc = history['val_accuracy']\n",
        "loss = history['val_loss']\n",
        "val_loss = history['val_loss']\n",
        "epochs = range(len(acc))\n",
        "\n",
        "fig, ax = plt.subplots(nrows=1, ncols=2, figsize=(20, 6))\n",
        "ax[0].plot(epochs, acc, 'y', label='Training accuracy')\n",
        "ax[0].plot(epochs, val_acc, 'g', label='Validation accuracy')\n",
        "ax[0].legend(loc=0)\n",
        "\n",
        "ax[0].plot(epochs, loss, 'b', label='Training loss')\n",
        "ax[0].legend(loc=0)\n",
        "ax[1].plot(epochs, loss, 'y', label='Training loss')\n",
        "ax[1].plot(epochs, val_loss, 'g', label='Validation loss')\n",
        "ax[1].legend(loc=0)\n",
        "\n",
        "\n",
        "\n",
        "plt.suptitle('Training and validation')\n",
        "plt.show()"
      ],
      "metadata": {
        "id": "JM7I10awbiZp",
        "outputId": "4813ec9f-208f-4964-c945-9c6dfe8d1027",
        "colab": {
          "base_uri": "https://localhost:8080/",
          "height": 410
        }
      },
      "execution_count": 36,
      "outputs": [
        {
          "output_type": "display_data",
          "data": {
            "text/plain": [
              "<Figure size 2000x600 with 2 Axes>"
            ],
            "image/png": "[encoded data removed]"
          },
          "metadata": {}
        }
      ]
    },
    {
      "cell_type": "code",
      "source": [
        "def prepare_input(text):\n",
        "    x = np.zeros((1, seq_len, len(character)))\n",
        "    for t, char in enumerate(text):\n",
        "        x[0, t, char_indicates[char]] = 1\n",
        "    return x\n",
        "prepare_input('This is an example of input of our model'.lower())\n"
      ],
      "metadata": {
        "id": "4Ob1nAQndBan",
        "outputId": "d69eae0d-c29c-49a8-ef14-14315187046a",
        "colab": {
          "base_uri": "https://localhost:8080/"
        }
      },
      "execution_count": 26,
      "outputs": [
        {
          "output_type": "execute_result",
          "data": {
            "text/plain": [
              "array([[[0., 0., 0., ..., 0., 0., 0.],\n",
              "        [0., 0., 0., ..., 0., 0., 0.],\n",
              "        [0., 0., 0., ..., 0., 0., 0.],\n",
              "        ...,\n",
              "        [0., 0., 0., ..., 0., 0., 0.],\n",
              "        [0., 0., 0., ..., 0., 0., 0.],\n",
              "        [0., 0., 0., ..., 0., 0., 0.]]])"
            ]
          },
          "metadata": {},
          "execution_count": 26
        }
      ]
    },
    {
      "cell_type": "code",
      "source": [
        "#functions to get next probable characters\n",
        "def sample(preds, top_n=3):\n",
        "    preds = np.asarray(preds).astype('float64')\n",
        "    preds = np.log(preds)\n",
        "    exp_preds = np.exp(preds)\n",
        "    preds = exp_preds / np.sum(exp_preds)\n",
        "\n",
        "    return heapq.nlargest(top_n, range(len(preds)), preds.take)"
      ],
      "metadata": {
        "id": "WA7d9djVeq4W"
      },
      "execution_count": 27,
      "outputs": []
    },
    {
      "cell_type": "code",
      "source": [
        "def predict_completion(text):\n",
        "    original_text = text\n",
        "    generated = text\n",
        "    completion = ''\n",
        "    while True:\n",
        "        x = prepare_input(text)\n",
        "        preds = model.predict(x, verbose=0)[0]\n",
        "        next_index = sample(preds, top_n=1)[0]\n",
        "        next_char = indices_char[next_index]\n",
        "        text = text[1:] + next_char\n",
        "        completion += next_char\n",
        "\n",
        "        if len(original_text + completion) + 2 > len(original_text) and next_char == ' ':\n",
        "            return completion\n"
      ],
      "metadata": {
        "id": "FJyO8XmZexe7"
      },
      "execution_count": 28,
      "outputs": []
    },
    {
      "cell_type": "code",
      "source": [
        "def predict_completions(text, n=3):\n",
        "    x = prepare_input(text)\n",
        "    preds = model.predict(x, verbose=0)[0]\n",
        "    next_indices = sample(preds, n)\n",
        "    return [indices_char[idx] + predict_completion(text[1:] + indices_char[idx]) for idx in next_indices]"
      ],
      "metadata": {
        "id": "gWKtPpDae1BV"
      },
      "execution_count": 29,
      "outputs": []
    },
    {
      "cell_type": "code",
      "source": [
        "#Prediction\n",
        "quotes = [\n",
        "    \"Deep learning is subset of machine learning,which is essentially a neural network with three or more layers.\",\n",
        "    \"Machine learning  is the study of computer algorithms that improve automatically through experience and by the use of data.\",\n",
        "    \"It is not a lack of love, but a lack of friendship that makes unhappy marriages.\",\n",
        "    \"Recurrent neural network (RNN) is a type of artificial neural network which uses sequential data or time series data.\",\n",
        "    \"Thanks for spending your precious time to view my work.\"\n",
        "\n",
        "]"
      ],
      "metadata": {
        "id": "3dfgTlFoe73U"
      },
      "execution_count": 30,
      "outputs": []
    },
    {
      "cell_type": "code",
      "source": [
        "for q in quotes:\n",
        "    seq = q[:40].lower()\n",
        "    print(seq)\n",
        "    print(predict_completions(seq, 5))\n",
        "    print()"
      ],
      "metadata": {
        "id": "AOGzfP07fAr2",
        "outputId": "1cd03fb8-d187-4701-a8ea-a7ee6c428ce1",
        "colab": {
          "base_uri": "https://localhost:8080/"
        }
      },
      "execution_count": 31,
      "outputs": [
        {
          "output_type": "stream",
          "name": "stdout",
          "text": [
            "deep learning is subset of machine learn\n",
            "['ed ', ' to ', 'g ', 'ce ', 'd ']\n",
            "\n",
            "machine learning  is the study of comput\n",
            "['e ', 'ce ', 'ting ', 'ured ', 's ']\n",
            "\n",
            "it is not a lack of love, but a lack of \n",
            "['the ', 'a ', 'my ', 'his ', 'its ']\n",
            "\n",
            "recurrent neural network (rnn) is a type\n",
            "['wro ', 'ck. ', 'or ', 'stered ', 'rnof ']\n",
            "\n",
            "thanks for spending your precious time t\n",
            "['o ', 'hat ', 'rain ', 'ake ', 'ime ']\n",
            "\n"
          ]
        }
      ]
    },
    {
      "cell_type": "code",
      "source": [],
      "metadata": {
        "id": "tHJ_Xp8jf5dR"
      },
      "execution_count": null,
      "outputs": []
    }
  ],
  "metadata": {
    "colab": {
      "name": "Welcome to Colaboratory",
      "provenance": []
    },
    "kernelspec": {
      "display_name": "Python 3",
      "name": "python3"
    }
  },
  "nbformat": 4,
  "nbformat_minor": 0
}